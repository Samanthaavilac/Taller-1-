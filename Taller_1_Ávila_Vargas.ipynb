{
  "nbformat": 4,
  "nbformat_minor": 0,
  "metadata": {
    "colab": {
      "provenance": []
    },
    "kernelspec": {
      "name": "python3",
      "display_name": "Python 3"
    },
    "language_info": {
      "name": "python"
    }
  },
  "cells": [
    {
      "cell_type": "markdown",
      "source": [
        "#Taller 1 \n",
        "**UNIVERSIDAD EXTERNADO DE COLOMBIA**            \n",
        "Finanzas computacionales                        \n",
        "\n",
        "*   Samantha Ávila \n",
        "*   María Paula Vargas (105)\n",
        "\n",
        "\n"
      ],
      "metadata": {
        "id": "h3CQ9GXrl_nc"
      }
    },
    {
      "cell_type": "markdown",
      "source": [
        "**1. Escoja dos acciones de su preferencia en el mercado estadounidense. Para estas dos acciones descargue las series de precios diarios para el periodo Ene-21 a Dic-2022 usando pandas datareader. Con esta información:**\n",
        "\n",
        "  a. Calcule los retornos logarítmicos diarios,     mensuales y anualizados. Presente los \n",
        "  resultados en una tabla.\n",
        "  \n",
        "\n"
      ],
      "metadata": {
        "id": "9RbOsTUtlfze"
      }
    },
    {
      "cell_type": "code",
      "source": [
        "import pandas as pd\n",
        "import numpy as np\n",
        "from scipy.stats import norm\n",
        "from matplotlib import pyplot as plt\n",
        "!pip install --quiet yfinance \n",
        "import yfinance as yf"
      ],
      "metadata": {
        "id": "OfPpKkO_q6Fa",
        "colab": {
          "base_uri": "https://localhost:8080/"
        },
        "outputId": "cd81e137-d20b-46ae-a4d0-81a0dab0f2d1"
      },
      "execution_count": null,
      "outputs": [
        {
          "output_type": "stream",
          "name": "stdout",
          "text": [
            "\u001b[?25l     \u001b[90m━━━━━━━━━━━━━━━━━━━━━━━━━━━━━━━━━━━━━━━━\u001b[0m \u001b[32m0.0/59.2 KB\u001b[0m \u001b[31m?\u001b[0m eta \u001b[36m-:--:--\u001b[0m\r\u001b[2K     \u001b[90m━━━━━━━━━━━━━━━━━━━━━━━━━━━━━━━━━━━━━━━━\u001b[0m \u001b[32m59.2/59.2 KB\u001b[0m \u001b[31m2.7 MB/s\u001b[0m eta \u001b[36m0:00:00\u001b[0m\n",
            "\u001b[2K     \u001b[90m━━━━━━━━━━━━━━━━━━━━━━━━━━━━━━━━━━━━━━━\u001b[0m \u001b[32m112.2/112.2 KB\u001b[0m \u001b[31m5.1 MB/s\u001b[0m eta \u001b[36m0:00:00\u001b[0m\n",
            "\u001b[2K     \u001b[90m━━━━━━━━━━━━━━━━━━━━━━━━━━━━━━━━━━━━━━\u001b[0m \u001b[32m129.4/129.4 KB\u001b[0m \u001b[31m11.5 MB/s\u001b[0m eta \u001b[36m0:00:00\u001b[0m\n",
            "\u001b[2K     \u001b[90m━━━━━━━━━━━━━━━━━━━━━━━━━━━━━━━━━━━━━━━━\u001b[0m \u001b[32m4.2/4.2 MB\u001b[0m \u001b[31m53.4 MB/s\u001b[0m eta \u001b[36m0:00:00\u001b[0m\n",
            "\u001b[2K     \u001b[90m━━━━━━━━━━━━━━━━━━━━━━━━━━━━━━━━━━━━━━━━\u001b[0m \u001b[32m62.8/62.8 KB\u001b[0m \u001b[31m6.6 MB/s\u001b[0m eta \u001b[36m0:00:00\u001b[0m\n",
            "\u001b[2K     \u001b[90m━━━━━━━━━━━━━━━━━━━━━━━━━━━━━━━━━━━━━━\u001b[0m \u001b[32m111.0/111.0 KB\u001b[0m \u001b[31m11.2 MB/s\u001b[0m eta \u001b[36m0:00:00\u001b[0m\n",
            "\u001b[?25h"
          ]
        }
      ]
    },
    {
      "cell_type": "code",
      "source": [
        "from pandas_datareader import data as wb\n",
        "from datetime import datetime"
      ],
      "metadata": {
        "id": "472gRhHY61tL"
      },
      "execution_count": null,
      "outputs": []
    },
    {
      "cell_type": "code",
      "source": [
        "yf.pdr_override()"
      ],
      "metadata": {
        "id": "AYvD2U7m7IrA"
      },
      "execution_count": null,
      "outputs": []
    },
    {
      "cell_type": "code",
      "source": [
        "#Acciones Ralph Lauren y Victoria´s Secret \n",
        "activos = [\"RL\", \"VSCO\"]  \n",
        "p_diarios =wb.get_data_yahoo(activos,start=\"2021-01-01\",end=\"2022-12-31\")[\"Adj Close\"] \n",
        "r_diarios = np.log(p_diarios/p_diarios.shift(1)).dropna()\n"
      ],
      "metadata": {
        "colab": {
          "base_uri": "https://localhost:8080/"
        },
        "id": "gkjHN-cG7RFj",
        "outputId": "d19be126-0528-4fdc-bf3e-be2c2d73f2c7"
      },
      "execution_count": null,
      "outputs": [
        {
          "output_type": "stream",
          "name": "stdout",
          "text": [
            "[*********************100%***********************]  2 of 2 completed\n"
          ]
        }
      ]
    },
    {
      "cell_type": "code",
      "source": [
        "#Retornos diarios \n",
        "r_diarios.mean()"
      ],
      "metadata": {
        "colab": {
          "base_uri": "https://localhost:8080/"
        },
        "id": "A-xc6K_Gso-5",
        "outputId": "3ce6f4ed-05d2-4904-f936-c7cf44e69c77"
      },
      "execution_count": null,
      "outputs": [
        {
          "output_type": "execute_result",
          "data": {
            "text/plain": [
              "RL     -0.000011\n",
              "VSCO   -0.000472\n",
              "dtype: float64"
            ]
          },
          "metadata": {},
          "execution_count": 6
        }
      ]
    },
    {
      "cell_type": "code",
      "source": [
        "#Retornos mensuales\n",
        "r_diarios.mean()*21"
      ],
      "metadata": {
        "colab": {
          "base_uri": "https://localhost:8080/"
        },
        "id": "Cyzy94DQ_9pG",
        "outputId": "bdd6a72b-b732-4cd9-d513-91179b89f4b9"
      },
      "execution_count": null,
      "outputs": [
        {
          "output_type": "execute_result",
          "data": {
            "text/plain": [
              "RL     -0.000224\n",
              "VSCO   -0.009903\n",
              "dtype: float64"
            ]
          },
          "metadata": {},
          "execution_count": 7
        }
      ]
    },
    {
      "cell_type": "code",
      "source": [
        "#Retornos anualizados \n",
        "r_diarios.mean()*252"
      ],
      "metadata": {
        "colab": {
          "base_uri": "https://localhost:8080/"
        },
        "id": "3knVu8t2q59k",
        "outputId": "8d2ecec7-96f0-411a-c140-1d77723250ab"
      },
      "execution_count": null,
      "outputs": [
        {
          "output_type": "execute_result",
          "data": {
            "text/plain": [
              "RL     -0.002691\n",
              "VSCO   -0.118830\n",
              "dtype: float64"
            ]
          },
          "metadata": {},
          "execution_count": 8
        }
      ]
    },
    {
      "cell_type": "code",
      "source": [
        "#Tabla de retornos\n",
        "tabla_retornos={\"Accion\":[\"RL\",\"VSCO\"],\n",
        "               \"R_log_diarios\":[r_diarios[\"RL\"].mean(),r_diarios[\"VSCO\"].mean()],\n",
        "               \"R_log_mensuales\":[r_diarios[\"RL\"].mean()*21,r_diarios[\"VSCO\"].mean()*21],\n",
        "               \"R_log_anualizados\":[r_diarios[\"RL\"].mean()*252,r_diarios[\"VSCO\"].mean()*252]}\n",
        "Acciones=pd.DataFrame(tabla_retornos,index=[\"RL\",\"VSCO\"])\n",
        "Acciones"
      ],
      "metadata": {
        "colab": {
          "base_uri": "https://localhost:8080/",
          "height": 112
        },
        "id": "b3C9sOu0mi2j",
        "outputId": "77040d51-5a89-4a4b-8cdf-7b179475b41d"
      },
      "execution_count": null,
      "outputs": [
        {
          "output_type": "execute_result",
          "data": {
            "text/plain": [
              "     Accion  R_log_diarios  R_log_mensuales  R_log_anualizados\n",
              "RL       RL      -0.000011        -0.000224          -0.002691\n",
              "VSCO   VSCO      -0.000472        -0.009903          -0.118830"
            ],
            "text/html": [
              "\n",
              "  <div id=\"df-e63da406-773c-438c-9f68-4935cbe1f284\">\n",
              "    <div class=\"colab-df-container\">\n",
              "      <div>\n",
              "<style scoped>\n",
              "    .dataframe tbody tr th:only-of-type {\n",
              "        vertical-align: middle;\n",
              "    }\n",
              "\n",
              "    .dataframe tbody tr th {\n",
              "        vertical-align: top;\n",
              "    }\n",
              "\n",
              "    .dataframe thead th {\n",
              "        text-align: right;\n",
              "    }\n",
              "</style>\n",
              "<table border=\"1\" class=\"dataframe\">\n",
              "  <thead>\n",
              "    <tr style=\"text-align: right;\">\n",
              "      <th></th>\n",
              "      <th>Accion</th>\n",
              "      <th>R_log_diarios</th>\n",
              "      <th>R_log_mensuales</th>\n",
              "      <th>R_log_anualizados</th>\n",
              "    </tr>\n",
              "  </thead>\n",
              "  <tbody>\n",
              "    <tr>\n",
              "      <th>RL</th>\n",
              "      <td>RL</td>\n",
              "      <td>-0.000011</td>\n",
              "      <td>-0.000224</td>\n",
              "      <td>-0.002691</td>\n",
              "    </tr>\n",
              "    <tr>\n",
              "      <th>VSCO</th>\n",
              "      <td>VSCO</td>\n",
              "      <td>-0.000472</td>\n",
              "      <td>-0.009903</td>\n",
              "      <td>-0.118830</td>\n",
              "    </tr>\n",
              "  </tbody>\n",
              "</table>\n",
              "</div>\n",
              "      <button class=\"colab-df-convert\" onclick=\"convertToInteractive('df-e63da406-773c-438c-9f68-4935cbe1f284')\"\n",
              "              title=\"Convert this dataframe to an interactive table.\"\n",
              "              style=\"display:none;\">\n",
              "        \n",
              "  <svg xmlns=\"http://www.w3.org/2000/svg\" height=\"24px\"viewBox=\"0 0 24 24\"\n",
              "       width=\"24px\">\n",
              "    <path d=\"M0 0h24v24H0V0z\" fill=\"none\"/>\n",
              "    <path d=\"M18.56 5.44l.94 2.06.94-2.06 2.06-.94-2.06-.94-.94-2.06-.94 2.06-2.06.94zm-11 1L8.5 8.5l.94-2.06 2.06-.94-2.06-.94L8.5 2.5l-.94 2.06-2.06.94zm10 10l.94 2.06.94-2.06 2.06-.94-2.06-.94-.94-2.06-.94 2.06-2.06.94z\"/><path d=\"M17.41 7.96l-1.37-1.37c-.4-.4-.92-.59-1.43-.59-.52 0-1.04.2-1.43.59L10.3 9.45l-7.72 7.72c-.78.78-.78 2.05 0 2.83L4 21.41c.39.39.9.59 1.41.59.51 0 1.02-.2 1.41-.59l7.78-7.78 2.81-2.81c.8-.78.8-2.07 0-2.86zM5.41 20L4 18.59l7.72-7.72 1.47 1.35L5.41 20z\"/>\n",
              "  </svg>\n",
              "      </button>\n",
              "      \n",
              "  <style>\n",
              "    .colab-df-container {\n",
              "      display:flex;\n",
              "      flex-wrap:wrap;\n",
              "      gap: 12px;\n",
              "    }\n",
              "\n",
              "    .colab-df-convert {\n",
              "      background-color: #E8F0FE;\n",
              "      border: none;\n",
              "      border-radius: 50%;\n",
              "      cursor: pointer;\n",
              "      display: none;\n",
              "      fill: #1967D2;\n",
              "      height: 32px;\n",
              "      padding: 0 0 0 0;\n",
              "      width: 32px;\n",
              "    }\n",
              "\n",
              "    .colab-df-convert:hover {\n",
              "      background-color: #E2EBFA;\n",
              "      box-shadow: 0px 1px 2px rgba(60, 64, 67, 0.3), 0px 1px 3px 1px rgba(60, 64, 67, 0.15);\n",
              "      fill: #174EA6;\n",
              "    }\n",
              "\n",
              "    [theme=dark] .colab-df-convert {\n",
              "      background-color: #3B4455;\n",
              "      fill: #D2E3FC;\n",
              "    }\n",
              "\n",
              "    [theme=dark] .colab-df-convert:hover {\n",
              "      background-color: #434B5C;\n",
              "      box-shadow: 0px 1px 3px 1px rgba(0, 0, 0, 0.15);\n",
              "      filter: drop-shadow(0px 1px 2px rgba(0, 0, 0, 0.3));\n",
              "      fill: #FFFFFF;\n",
              "    }\n",
              "  </style>\n",
              "\n",
              "      <script>\n",
              "        const buttonEl =\n",
              "          document.querySelector('#df-e63da406-773c-438c-9f68-4935cbe1f284 button.colab-df-convert');\n",
              "        buttonEl.style.display =\n",
              "          google.colab.kernel.accessAllowed ? 'block' : 'none';\n",
              "\n",
              "        async function convertToInteractive(key) {\n",
              "          const element = document.querySelector('#df-e63da406-773c-438c-9f68-4935cbe1f284');\n",
              "          const dataTable =\n",
              "            await google.colab.kernel.invokeFunction('convertToInteractive',\n",
              "                                                     [key], {});\n",
              "          if (!dataTable) return;\n",
              "\n",
              "          const docLinkHtml = 'Like what you see? Visit the ' +\n",
              "            '<a target=\"_blank\" href=https://colab.research.google.com/notebooks/data_table.ipynb>data table notebook</a>'\n",
              "            + ' to learn more about interactive tables.';\n",
              "          element.innerHTML = '';\n",
              "          dataTable['output_type'] = 'display_data';\n",
              "          await google.colab.output.renderOutput(dataTable, element);\n",
              "          const docLink = document.createElement('div');\n",
              "          docLink.innerHTML = docLinkHtml;\n",
              "          element.appendChild(docLink);\n",
              "        }\n",
              "      </script>\n",
              "    </div>\n",
              "  </div>\n",
              "  "
            ]
          },
          "metadata": {},
          "execution_count": 9
        }
      ]
    },
    {
      "cell_type": "markdown",
      "source": [
        "b. Calcule los retornos esperados y volatilidades anualizadas.\n",
        "\n"
      ],
      "metadata": {
        "id": "xTv5Cv4YFgJE"
      }
    },
    {
      "cell_type": "code",
      "source": [
        "#Retornos esperados\n",
        "r_diarios.mean()*252"
      ],
      "metadata": {
        "colab": {
          "base_uri": "https://localhost:8080/"
        },
        "id": "1RzYovNZFMFu",
        "outputId": "14402313-000e-4820-9b71-719bb252334e"
      },
      "execution_count": null,
      "outputs": [
        {
          "output_type": "execute_result",
          "data": {
            "text/plain": [
              "RL     -0.002691\n",
              "VSCO   -0.118830\n",
              "dtype: float64"
            ]
          },
          "metadata": {},
          "execution_count": 10
        }
      ]
    },
    {
      "cell_type": "code",
      "source": [
        "#Volatilidades anualizadas \n",
        "r_diarios.std()*np.sqrt(252)"
      ],
      "metadata": {
        "colab": {
          "base_uri": "https://localhost:8080/"
        },
        "id": "U1oZNlsBGHYu",
        "outputId": "e2b83e9b-3d9e-444a-a026-375752ebe549"
      },
      "execution_count": null,
      "outputs": [
        {
          "output_type": "execute_result",
          "data": {
            "text/plain": [
              "RL      0.426685\n",
              "VSCO    0.636513\n",
              "dtype: float64"
            ]
          },
          "metadata": {},
          "execution_count": 11
        }
      ]
    },
    {
      "cell_type": "markdown",
      "source": [
        "c. Construya una tabla resumen con las estadísticas descriptivas de las series diarias (media, mediana, desv. estándar, curtosis, simetría) de los dos activos.\n",
        "\n",
        "\n"
      ],
      "metadata": {
        "id": "yZCe10nhJuWe"
      }
    },
    {
      "cell_type": "code",
      "source": [
        "#Media\n",
        "r_diarios.mean()"
      ],
      "metadata": {
        "colab": {
          "base_uri": "https://localhost:8080/"
        },
        "id": "SoXFiSTUHBo_",
        "outputId": "722dbc03-4143-4ed9-95c7-7494f1e4eba3"
      },
      "execution_count": null,
      "outputs": [
        {
          "output_type": "execute_result",
          "data": {
            "text/plain": [
              "RL     -0.000011\n",
              "VSCO   -0.000472\n",
              "dtype: float64"
            ]
          },
          "metadata": {},
          "execution_count": 12
        }
      ]
    },
    {
      "cell_type": "code",
      "source": [
        "#Mediana\n",
        "r_diarios.median()"
      ],
      "metadata": {
        "colab": {
          "base_uri": "https://localhost:8080/"
        },
        "id": "8yiwNJNvIafS",
        "outputId": "cc3c9ff0-cbbc-4d37-9185-e5c2fe8152ef"
      },
      "execution_count": null,
      "outputs": [
        {
          "output_type": "execute_result",
          "data": {
            "text/plain": [
              "RL      0.001409\n",
              "VSCO   -0.001336\n",
              "dtype: float64"
            ]
          },
          "metadata": {},
          "execution_count": 13
        }
      ]
    },
    {
      "cell_type": "code",
      "source": [
        "#Desviacion estandar \n",
        "r_diarios.std()"
      ],
      "metadata": {
        "colab": {
          "base_uri": "https://localhost:8080/"
        },
        "id": "ZUKuw1oMIT55",
        "outputId": "613214d1-db3a-4a37-e263-bd10baea05c5"
      },
      "execution_count": null,
      "outputs": [
        {
          "output_type": "execute_result",
          "data": {
            "text/plain": [
              "RL      0.026879\n",
              "VSCO    0.040097\n",
              "dtype: float64"
            ]
          },
          "metadata": {},
          "execution_count": 14
        }
      ]
    },
    {
      "cell_type": "code",
      "source": [
        "#Curtosis\n",
        "r_diarios.kurt()"
      ],
      "metadata": {
        "colab": {
          "base_uri": "https://localhost:8080/"
        },
        "id": "Jsv5pQ9fH92s",
        "outputId": "3096efa6-42bc-4065-d159-d3915b710603"
      },
      "execution_count": null,
      "outputs": [
        {
          "output_type": "execute_result",
          "data": {
            "text/plain": [
              "RL      2.064187\n",
              "VSCO    4.954630\n",
              "dtype: float64"
            ]
          },
          "metadata": {},
          "execution_count": 15
        }
      ]
    },
    {
      "cell_type": "code",
      "source": [
        "#Simetria\n",
        "r_diarios.skew()"
      ],
      "metadata": {
        "colab": {
          "base_uri": "https://localhost:8080/"
        },
        "id": "eMXyxeTHH6y3",
        "outputId": "fa6559b3-1a94-47da-801d-37fd1bf7dcd2"
      },
      "execution_count": null,
      "outputs": [
        {
          "output_type": "execute_result",
          "data": {
            "text/plain": [
              "RL     -0.519495\n",
              "VSCO    0.818455\n",
              "dtype: float64"
            ]
          },
          "metadata": {},
          "execution_count": 16
        }
      ]
    },
    {
      "cell_type": "code",
      "source": [
        "#Tabla estadistica \n",
        "tabla_estadistica={\"Accion\":[\"RL\",\"VSCO\"],\n",
        "               \"Media\":[r_diarios[\"RL\"].mean(),r_diarios[\"VSCO\"].mean()],\n",
        "               \"Mediana\":[r_diarios[\"RL\"].median(),r_diarios[\"VSCO\"].median()],\n",
        "               \"Desviación.E\":[r_diarios[\"RL\"].std(),r_diarios[\"VSCO\"].std()],\n",
        "               \"Curtosis\":[r_diarios[\"RL\"].kurt(),r_diarios[\"VSCO\"].kurt()],\n",
        "                \"Simetría\":[r_diarios[\"RL\"].skew(),r_diarios[\"VSCO\"].skew()]}\n",
        "Acciones1=pd.DataFrame(tabla_estadistica,index=[\"RL\",\"VSCO\"])\n",
        "Acciones1"
      ],
      "metadata": {
        "colab": {
          "base_uri": "https://localhost:8080/",
          "height": 112
        },
        "id": "5UdVTo-EIK-i",
        "outputId": "8b4f5b63-46fb-47f4-9cc6-ca30650c354f"
      },
      "execution_count": null,
      "outputs": [
        {
          "output_type": "execute_result",
          "data": {
            "text/plain": [
              "     Accion     Media   Mediana  Desviación.E  Curtosis  Simetría\n",
              "RL       RL -0.000011  0.001409      0.026879  2.064187 -0.519495\n",
              "VSCO   VSCO -0.000472 -0.001336      0.040097  4.954630  0.818455"
            ],
            "text/html": [
              "\n",
              "  <div id=\"df-9ee436f4-43a9-4eac-b05a-0122f0d4fccc\">\n",
              "    <div class=\"colab-df-container\">\n",
              "      <div>\n",
              "<style scoped>\n",
              "    .dataframe tbody tr th:only-of-type {\n",
              "        vertical-align: middle;\n",
              "    }\n",
              "\n",
              "    .dataframe tbody tr th {\n",
              "        vertical-align: top;\n",
              "    }\n",
              "\n",
              "    .dataframe thead th {\n",
              "        text-align: right;\n",
              "    }\n",
              "</style>\n",
              "<table border=\"1\" class=\"dataframe\">\n",
              "  <thead>\n",
              "    <tr style=\"text-align: right;\">\n",
              "      <th></th>\n",
              "      <th>Accion</th>\n",
              "      <th>Media</th>\n",
              "      <th>Mediana</th>\n",
              "      <th>Desviación.E</th>\n",
              "      <th>Curtosis</th>\n",
              "      <th>Simetría</th>\n",
              "    </tr>\n",
              "  </thead>\n",
              "  <tbody>\n",
              "    <tr>\n",
              "      <th>RL</th>\n",
              "      <td>RL</td>\n",
              "      <td>-0.000011</td>\n",
              "      <td>0.001409</td>\n",
              "      <td>0.026879</td>\n",
              "      <td>2.064187</td>\n",
              "      <td>-0.519495</td>\n",
              "    </tr>\n",
              "    <tr>\n",
              "      <th>VSCO</th>\n",
              "      <td>VSCO</td>\n",
              "      <td>-0.000472</td>\n",
              "      <td>-0.001336</td>\n",
              "      <td>0.040097</td>\n",
              "      <td>4.954630</td>\n",
              "      <td>0.818455</td>\n",
              "    </tr>\n",
              "  </tbody>\n",
              "</table>\n",
              "</div>\n",
              "      <button class=\"colab-df-convert\" onclick=\"convertToInteractive('df-9ee436f4-43a9-4eac-b05a-0122f0d4fccc')\"\n",
              "              title=\"Convert this dataframe to an interactive table.\"\n",
              "              style=\"display:none;\">\n",
              "        \n",
              "  <svg xmlns=\"http://www.w3.org/2000/svg\" height=\"24px\"viewBox=\"0 0 24 24\"\n",
              "       width=\"24px\">\n",
              "    <path d=\"M0 0h24v24H0V0z\" fill=\"none\"/>\n",
              "    <path d=\"M18.56 5.44l.94 2.06.94-2.06 2.06-.94-2.06-.94-.94-2.06-.94 2.06-2.06.94zm-11 1L8.5 8.5l.94-2.06 2.06-.94-2.06-.94L8.5 2.5l-.94 2.06-2.06.94zm10 10l.94 2.06.94-2.06 2.06-.94-2.06-.94-.94-2.06-.94 2.06-2.06.94z\"/><path d=\"M17.41 7.96l-1.37-1.37c-.4-.4-.92-.59-1.43-.59-.52 0-1.04.2-1.43.59L10.3 9.45l-7.72 7.72c-.78.78-.78 2.05 0 2.83L4 21.41c.39.39.9.59 1.41.59.51 0 1.02-.2 1.41-.59l7.78-7.78 2.81-2.81c.8-.78.8-2.07 0-2.86zM5.41 20L4 18.59l7.72-7.72 1.47 1.35L5.41 20z\"/>\n",
              "  </svg>\n",
              "      </button>\n",
              "      \n",
              "  <style>\n",
              "    .colab-df-container {\n",
              "      display:flex;\n",
              "      flex-wrap:wrap;\n",
              "      gap: 12px;\n",
              "    }\n",
              "\n",
              "    .colab-df-convert {\n",
              "      background-color: #E8F0FE;\n",
              "      border: none;\n",
              "      border-radius: 50%;\n",
              "      cursor: pointer;\n",
              "      display: none;\n",
              "      fill: #1967D2;\n",
              "      height: 32px;\n",
              "      padding: 0 0 0 0;\n",
              "      width: 32px;\n",
              "    }\n",
              "\n",
              "    .colab-df-convert:hover {\n",
              "      background-color: #E2EBFA;\n",
              "      box-shadow: 0px 1px 2px rgba(60, 64, 67, 0.3), 0px 1px 3px 1px rgba(60, 64, 67, 0.15);\n",
              "      fill: #174EA6;\n",
              "    }\n",
              "\n",
              "    [theme=dark] .colab-df-convert {\n",
              "      background-color: #3B4455;\n",
              "      fill: #D2E3FC;\n",
              "    }\n",
              "\n",
              "    [theme=dark] .colab-df-convert:hover {\n",
              "      background-color: #434B5C;\n",
              "      box-shadow: 0px 1px 3px 1px rgba(0, 0, 0, 0.15);\n",
              "      filter: drop-shadow(0px 1px 2px rgba(0, 0, 0, 0.3));\n",
              "      fill: #FFFFFF;\n",
              "    }\n",
              "  </style>\n",
              "\n",
              "      <script>\n",
              "        const buttonEl =\n",
              "          document.querySelector('#df-9ee436f4-43a9-4eac-b05a-0122f0d4fccc button.colab-df-convert');\n",
              "        buttonEl.style.display =\n",
              "          google.colab.kernel.accessAllowed ? 'block' : 'none';\n",
              "\n",
              "        async function convertToInteractive(key) {\n",
              "          const element = document.querySelector('#df-9ee436f4-43a9-4eac-b05a-0122f0d4fccc');\n",
              "          const dataTable =\n",
              "            await google.colab.kernel.invokeFunction('convertToInteractive',\n",
              "                                                     [key], {});\n",
              "          if (!dataTable) return;\n",
              "\n",
              "          const docLinkHtml = 'Like what you see? Visit the ' +\n",
              "            '<a target=\"_blank\" href=https://colab.research.google.com/notebooks/data_table.ipynb>data table notebook</a>'\n",
              "            + ' to learn more about interactive tables.';\n",
              "          element.innerHTML = '';\n",
              "          dataTable['output_type'] = 'display_data';\n",
              "          await google.colab.output.renderOutput(dataTable, element);\n",
              "          const docLink = document.createElement('div');\n",
              "          docLink.innerHTML = docLinkHtml;\n",
              "          element.appendChild(docLink);\n",
              "        }\n",
              "      </script>\n",
              "    </div>\n",
              "  </div>\n",
              "  "
            ]
          },
          "metadata": {},
          "execution_count": 17
        }
      ]
    },
    {
      "cell_type": "markdown",
      "source": [
        "d. Compare las distribuciones empíricas de los dos activos con la distribución teórica normal.\n"
      ],
      "metadata": {
        "id": "bh7KDLTSJ7HY"
      }
    },
    {
      "cell_type": "code",
      "source": [
        "# Rl- Azul empirica y Roja Teorica \n",
        "# VSCO - Naranja empirica y Amarilla Teorica \n",
        "x= np.linspace(-0.2,0.2,num=1000) \n",
        "plt.hist(r_diarios[\"RL\"],density=True,histtype=\"step\",bins=20);\n",
        "plt.hist(r_diarios[\"VSCO\"],density=True,histtype=\"step\",bins=20);\n",
        "plt.xlabel(\"Retornos\")\n",
        "plt.ylabel(\"Probabilidad\")\n",
        "plt.plot(x,norm.pdf(x,scale=r_diarios[\"RL\"].std()),\"r\")\n",
        "plt.plot(x,norm.pdf(x,scale=r_diarios[\"VSCO\"].std()),\"y\")\n",
        "plt.show();"
      ],
      "metadata": {
        "colab": {
          "base_uri": "https://localhost:8080/",
          "height": 279
        },
        "id": "4lwfG9unKIaU",
        "outputId": "a3edfd18-c7b3-4406-a9e2-4d87d69874b5"
      },
      "execution_count": null,
      "outputs": [
        {
          "output_type": "display_data",
          "data": {
            "text/plain": [
              "<Figure size 432x288 with 1 Axes>"
            ],
            "image/png": "[encoded data removed]"
          },
          "metadata": {
            "needs_background": "light"
          }
        }
      ]
    },
    {
      "cell_type": "markdown",
      "source": [
        "e. Calcule la matriz de correlaciones de Pearson, rango de Kendall y de Spearman.\n"
      ],
      "metadata": {
        "id": "s5suGPhRMc5Z"
      }
    },
    {
      "cell_type": "code",
      "source": [
        "#Pearson\n",
        "r_diarios.corr()"
      ],
      "metadata": {
        "colab": {
          "base_uri": "https://localhost:8080/",
          "height": 112
        },
        "id": "IJ3q7nkEwIRI",
        "outputId": "807af7ed-e371-44a4-d8d8-7a68edf1efea"
      },
      "execution_count": null,
      "outputs": [
        {
          "output_type": "execute_result",
          "data": {
            "text/plain": [
              "            RL      VSCO\n",
              "RL    1.000000  0.544713\n",
              "VSCO  0.544713  1.000000"
            ],
            "text/html": [
              "\n",
              "  <div id=\"df-459a5f64-6837-4577-a1ce-4fc0ae3f4127\">\n",
              "    <div class=\"colab-df-container\">\n",
              "      <div>\n",
              "<style scoped>\n",
              "    .dataframe tbody tr th:only-of-type {\n",
              "        vertical-align: middle;\n",
              "    }\n",
              "\n",
              "    .dataframe tbody tr th {\n",
              "        vertical-align: top;\n",
              "    }\n",
              "\n",
              "    .dataframe thead th {\n",
              "        text-align: right;\n",
              "    }\n",
              "</style>\n",
              "<table border=\"1\" class=\"dataframe\">\n",
              "  <thead>\n",
              "    <tr style=\"text-align: right;\">\n",
              "      <th></th>\n",
              "      <th>RL</th>\n",
              "      <th>VSCO</th>\n",
              "    </tr>\n",
              "  </thead>\n",
              "  <tbody>\n",
              "    <tr>\n",
              "      <th>RL</th>\n",
              "      <td>1.000000</td>\n",
              "      <td>0.544713</td>\n",
              "    </tr>\n",
              "    <tr>\n",
              "      <th>VSCO</th>\n",
              "      <td>0.544713</td>\n",
              "      <td>1.000000</td>\n",
              "    </tr>\n",
              "  </tbody>\n",
              "</table>\n",
              "</div>\n",
              "      <button class=\"colab-df-convert\" onclick=\"convertToInteractive('df-459a5f64-6837-4577-a1ce-4fc0ae3f4127')\"\n",
              "              title=\"Convert this dataframe to an interactive table.\"\n",
              "              style=\"display:none;\">\n",
              "        \n",
              "  <svg xmlns=\"http://www.w3.org/2000/svg\" height=\"24px\"viewBox=\"0 0 24 24\"\n",
              "       width=\"24px\">\n",
              "    <path d=\"M0 0h24v24H0V0z\" fill=\"none\"/>\n",
              "    <path d=\"M18.56 5.44l.94 2.06.94-2.06 2.06-.94-2.06-.94-.94-2.06-.94 2.06-2.06.94zm-11 1L8.5 8.5l.94-2.06 2.06-.94-2.06-.94L8.5 2.5l-.94 2.06-2.06.94zm10 10l.94 2.06.94-2.06 2.06-.94-2.06-.94-.94-2.06-.94 2.06-2.06.94z\"/><path d=\"M17.41 7.96l-1.37-1.37c-.4-.4-.92-.59-1.43-.59-.52 0-1.04.2-1.43.59L10.3 9.45l-7.72 7.72c-.78.78-.78 2.05 0 2.83L4 21.41c.39.39.9.59 1.41.59.51 0 1.02-.2 1.41-.59l7.78-7.78 2.81-2.81c.8-.78.8-2.07 0-2.86zM5.41 20L4 18.59l7.72-7.72 1.47 1.35L5.41 20z\"/>\n",
              "  </svg>\n",
              "      </button>\n",
              "      \n",
              "  <style>\n",
              "    .colab-df-container {\n",
              "      display:flex;\n",
              "      flex-wrap:wrap;\n",
              "      gap: 12px;\n",
              "    }\n",
              "\n",
              "    .colab-df-convert {\n",
              "      background-color: #E8F0FE;\n",
              "      border: none;\n",
              "      border-radius: 50%;\n",
              "      cursor: pointer;\n",
              "      display: none;\n",
              "      fill: #1967D2;\n",
              "      height: 32px;\n",
              "      padding: 0 0 0 0;\n",
              "      width: 32px;\n",
              "    }\n",
              "\n",
              "    .colab-df-convert:hover {\n",
              "      background-color: #E2EBFA;\n",
              "      box-shadow: 0px 1px 2px rgba(60, 64, 67, 0.3), 0px 1px 3px 1px rgba(60, 64, 67, 0.15);\n",
              "      fill: #174EA6;\n",
              "    }\n",
              "\n",
              "    [theme=dark] .colab-df-convert {\n",
              "      background-color: #3B4455;\n",
              "      fill: #D2E3FC;\n",
              "    }\n",
              "\n",
              "    [theme=dark] .colab-df-convert:hover {\n",
              "      background-color: #434B5C;\n",
              "      box-shadow: 0px 1px 3px 1px rgba(0, 0, 0, 0.15);\n",
              "      filter: drop-shadow(0px 1px 2px rgba(0, 0, 0, 0.3));\n",
              "      fill: #FFFFFF;\n",
              "    }\n",
              "  </style>\n",
              "\n",
              "      <script>\n",
              "        const buttonEl =\n",
              "          document.querySelector('#df-459a5f64-6837-4577-a1ce-4fc0ae3f4127 button.colab-df-convert');\n",
              "        buttonEl.style.display =\n",
              "          google.colab.kernel.accessAllowed ? 'block' : 'none';\n",
              "\n",
              "        async function convertToInteractive(key) {\n",
              "          const element = document.querySelector('#df-459a5f64-6837-4577-a1ce-4fc0ae3f4127');\n",
              "          const dataTable =\n",
              "            await google.colab.kernel.invokeFunction('convertToInteractive',\n",
              "                                                     [key], {});\n",
              "          if (!dataTable) return;\n",
              "\n",
              "          const docLinkHtml = 'Like what you see? Visit the ' +\n",
              "            '<a target=\"_blank\" href=https://colab.research.google.com/notebooks/data_table.ipynb>data table notebook</a>'\n",
              "            + ' to learn more about interactive tables.';\n",
              "          element.innerHTML = '';\n",
              "          dataTable['output_type'] = 'display_data';\n",
              "          await google.colab.output.renderOutput(dataTable, element);\n",
              "          const docLink = document.createElement('div');\n",
              "          docLink.innerHTML = docLinkHtml;\n",
              "          element.appendChild(docLink);\n",
              "        }\n",
              "      </script>\n",
              "    </div>\n",
              "  </div>\n",
              "  "
            ]
          },
          "metadata": {},
          "execution_count": 19
        }
      ]
    },
    {
      "cell_type": "code",
      "source": [
        "#Kendall \n",
        "import scipy.stats as stats\n",
        "stats.kendalltau(r_diarios[\"RL\"],r_diarios[\"VSCO\"])"
      ],
      "metadata": {
        "colab": {
          "base_uri": "https://localhost:8080/"
        },
        "id": "wTjEqBulxR_3",
        "outputId": "e4cd710b-8092-45bd-e58b-966e5e2aaa05"
      },
      "execution_count": null,
      "outputs": [
        {
          "output_type": "execute_result",
          "data": {
            "text/plain": [
              "KendalltauResult(correlation=0.3777990200244003, pvalue=4.5177836602348886e-27)"
            ]
          },
          "metadata": {},
          "execution_count": 20
        }
      ]
    },
    {
      "cell_type": "code",
      "source": [
        "#Spearman\n",
        "stats.spearmanr(r_diarios[\"RL\"],r_diarios[\"VSCO\"])"
      ],
      "metadata": {
        "colab": {
          "base_uri": "https://localhost:8080/"
        },
        "id": "SuV-UGTmzVcD",
        "outputId": "abce154f-822b-48db-86ff-4849ed40835f"
      },
      "execution_count": null,
      "outputs": [
        {
          "output_type": "execute_result",
          "data": {
            "text/plain": [
              "SpearmanrResult(correlation=0.5380091047404221, pvalue=8.954289200837004e-29)"
            ]
          },
          "metadata": {},
          "execution_count": 21
        }
      ]
    },
    {
      "cell_type": "markdown",
      "source": [
        "**2. Escoja 10 acciones de su preferencia en el mercado estadounidense. Para estas \n",
        "acciones descargue las series de precios mensuales para el periodo Dic-17 a Dic-2022. \n",
        "Con esta información:**\n",
        "\n",
        "a. Calcule los retornos y volatilidades anualizadas. \n"
      ],
      "metadata": {
        "id": "CzUYDrs1qjg_"
      }
    },
    {
      "cell_type": "code",
      "source": [
        "acciones=['MCD','DPZ','DIN','EAT','DIS','KO','WMT','TGT','NKE','DECK']\n",
        "precios=yf.download(acciones,start='2017-12-01',end='2022-12-01')['Adj Close'].dropna()\n",
        "retorno=np.log(precios/precios.shift(1)).dropna()\n",
        "sigma=retorno.std()\n",
        "sigma*np.sqrt(252)"
      ],
      "metadata": {
        "id": "zx9nggTFq7Ca",
        "colab": {
          "base_uri": "https://localhost:8080/"
        },
        "outputId": "42f97ec0-7547-4653-9ac7-7dd522b39963"
      },
      "execution_count": null,
      "outputs": [
        {
          "output_type": "stream",
          "name": "stdout",
          "text": [
            "[*********************100%***********************]  10 of 10 completed\n"
          ]
        },
        {
          "output_type": "execute_result",
          "data": {
            "text/plain": [
              "DECK    0.434999\n",
              "DIN     0.685631\n",
              "DIS     0.325244\n",
              "DPZ     0.322341\n",
              "EAT     0.666708\n",
              "KO      0.216897\n",
              "MCD     0.239899\n",
              "NKE     0.328207\n",
              "TGT     0.349988\n",
              "WMT     0.234697\n",
              "dtype: float64"
            ]
          },
          "metadata": {},
          "execution_count": 22
        }
      ]
    },
    {
      "cell_type": "code",
      "source": [
        "sigma*np.sqrt(21)"
      ],
      "metadata": {
        "colab": {
          "base_uri": "https://localhost:8080/"
        },
        "id": "cXy7_1NacMGu",
        "outputId": "0f37e239-82d2-4429-b983-e1e4e39169db"
      },
      "execution_count": null,
      "outputs": [
        {
          "output_type": "execute_result",
          "data": {
            "text/plain": [
              "DECK    0.125573\n",
              "DIN     0.197925\n",
              "DIS     0.093890\n",
              "DPZ     0.093052\n",
              "EAT     0.192462\n",
              "KO      0.062613\n",
              "MCD     0.069253\n",
              "NKE     0.094745\n",
              "TGT     0.101033\n",
              "WMT     0.067751\n",
              "dtype: float64"
            ]
          },
          "metadata": {},
          "execution_count": 23
        }
      ]
    },
    {
      "cell_type": "markdown",
      "source": [
        "b. Construya una tabla en la que se muestre un ranqueo de los activos de acuerdo con su \n",
        "retorno esperado."
      ],
      "metadata": {
        "id": "elW_UB74sNJY"
      }
    },
    {
      "cell_type": "code",
      "source": [
        "retornos_esperados=(sigma*np.sqrt(252)).sort_values()\n",
        "retornos_esperados\n",
        "\n",
        "df=pd.DataFrame(retornos_esperados)\n",
        "df"
      ],
      "metadata": {
        "colab": {
          "base_uri": "https://localhost:8080/",
          "height": 363
        },
        "id": "D-n5IBfYarS9",
        "outputId": "89cc299a-1197-4605-f815-24143d47ee9e"
      },
      "execution_count": null,
      "outputs": [
        {
          "output_type": "execute_result",
          "data": {
            "text/plain": [
              "             0\n",
              "KO    0.216897\n",
              "WMT   0.234697\n",
              "MCD   0.239899\n",
              "DPZ   0.322341\n",
              "DIS   0.325244\n",
              "NKE   0.328207\n",
              "TGT   0.349988\n",
              "DECK  0.434999\n",
              "EAT   0.666708\n",
              "DIN   0.685631"
            ],
            "text/html": [
              "\n",
              "  <div id=\"df-7b78028a-2cae-48e6-b2d5-c5cc832b32d8\">\n",
              "    <div class=\"colab-df-container\">\n",
              "      <div>\n",
              "<style scoped>\n",
              "    .dataframe tbody tr th:only-of-type {\n",
              "        vertical-align: middle;\n",
              "    }\n",
              "\n",
              "    .dataframe tbody tr th {\n",
              "        vertical-align: top;\n",
              "    }\n",
              "\n",
              "    .dataframe thead th {\n",
              "        text-align: right;\n",
              "    }\n",
              "</style>\n",
              "<table border=\"1\" class=\"dataframe\">\n",
              "  <thead>\n",
              "    <tr style=\"text-align: right;\">\n",
              "      <th></th>\n",
              "      <th>0</th>\n",
              "    </tr>\n",
              "  </thead>\n",
              "  <tbody>\n",
              "    <tr>\n",
              "      <th>KO</th>\n",
              "      <td>0.216897</td>\n",
              "    </tr>\n",
              "    <tr>\n",
              "      <th>WMT</th>\n",
              "      <td>0.234697</td>\n",
              "    </tr>\n",
              "    <tr>\n",
              "      <th>MCD</th>\n",
              "      <td>0.239899</td>\n",
              "    </tr>\n",
              "    <tr>\n",
              "      <th>DPZ</th>\n",
              "      <td>0.322341</td>\n",
              "    </tr>\n",
              "    <tr>\n",
              "      <th>DIS</th>\n",
              "      <td>0.325244</td>\n",
              "    </tr>\n",
              "    <tr>\n",
              "      <th>NKE</th>\n",
              "      <td>0.328207</td>\n",
              "    </tr>\n",
              "    <tr>\n",
              "      <th>TGT</th>\n",
              "      <td>0.349988</td>\n",
              "    </tr>\n",
              "    <tr>\n",
              "      <th>DECK</th>\n",
              "      <td>0.434999</td>\n",
              "    </tr>\n",
              "    <tr>\n",
              "      <th>EAT</th>\n",
              "      <td>0.666708</td>\n",
              "    </tr>\n",
              "    <tr>\n",
              "      <th>DIN</th>\n",
              "      <td>0.685631</td>\n",
              "    </tr>\n",
              "  </tbody>\n",
              "</table>\n",
              "</div>\n",
              "      <button class=\"colab-df-convert\" onclick=\"convertToInteractive('df-7b78028a-2cae-48e6-b2d5-c5cc832b32d8')\"\n",
              "              title=\"Convert this dataframe to an interactive table.\"\n",
              "              style=\"display:none;\">\n",
              "        \n",
              "  <svg xmlns=\"http://www.w3.org/2000/svg\" height=\"24px\"viewBox=\"0 0 24 24\"\n",
              "       width=\"24px\">\n",
              "    <path d=\"M0 0h24v24H0V0z\" fill=\"none\"/>\n",
              "    <path d=\"M18.56 5.44l.94 2.06.94-2.06 2.06-.94-2.06-.94-.94-2.06-.94 2.06-2.06.94zm-11 1L8.5 8.5l.94-2.06 2.06-.94-2.06-.94L8.5 2.5l-.94 2.06-2.06.94zm10 10l.94 2.06.94-2.06 2.06-.94-2.06-.94-.94-2.06-.94 2.06-2.06.94z\"/><path d=\"M17.41 7.96l-1.37-1.37c-.4-.4-.92-.59-1.43-.59-.52 0-1.04.2-1.43.59L10.3 9.45l-7.72 7.72c-.78.78-.78 2.05 0 2.83L4 21.41c.39.39.9.59 1.41.59.51 0 1.02-.2 1.41-.59l7.78-7.78 2.81-2.81c.8-.78.8-2.07 0-2.86zM5.41 20L4 18.59l7.72-7.72 1.47 1.35L5.41 20z\"/>\n",
              "  </svg>\n",
              "      </button>\n",
              "      \n",
              "  <style>\n",
              "    .colab-df-container {\n",
              "      display:flex;\n",
              "      flex-wrap:wrap;\n",
              "      gap: 12px;\n",
              "    }\n",
              "\n",
              "    .colab-df-convert {\n",
              "      background-color: #E8F0FE;\n",
              "      border: none;\n",
              "      border-radius: 50%;\n",
              "      cursor: pointer;\n",
              "      display: none;\n",
              "      fill: #1967D2;\n",
              "      height: 32px;\n",
              "      padding: 0 0 0 0;\n",
              "      width: 32px;\n",
              "    }\n",
              "\n",
              "    .colab-df-convert:hover {\n",
              "      background-color: #E2EBFA;\n",
              "      box-shadow: 0px 1px 2px rgba(60, 64, 67, 0.3), 0px 1px 3px 1px rgba(60, 64, 67, 0.15);\n",
              "      fill: #174EA6;\n",
              "    }\n",
              "\n",
              "    [theme=dark] .colab-df-convert {\n",
              "      background-color: #3B4455;\n",
              "      fill: #D2E3FC;\n",
              "    }\n",
              "\n",
              "    [theme=dark] .colab-df-convert:hover {\n",
              "      background-color: #434B5C;\n",
              "      box-shadow: 0px 1px 3px 1px rgba(0, 0, 0, 0.15);\n",
              "      filter: drop-shadow(0px 1px 2px rgba(0, 0, 0, 0.3));\n",
              "      fill: #FFFFFF;\n",
              "    }\n",
              "  </style>\n",
              "\n",
              "      <script>\n",
              "        const buttonEl =\n",
              "          document.querySelector('#df-7b78028a-2cae-48e6-b2d5-c5cc832b32d8 button.colab-df-convert');\n",
              "        buttonEl.style.display =\n",
              "          google.colab.kernel.accessAllowed ? 'block' : 'none';\n",
              "\n",
              "        async function convertToInteractive(key) {\n",
              "          const element = document.querySelector('#df-7b78028a-2cae-48e6-b2d5-c5cc832b32d8');\n",
              "          const dataTable =\n",
              "            await google.colab.kernel.invokeFunction('convertToInteractive',\n",
              "                                                     [key], {});\n",
              "          if (!dataTable) return;\n",
              "\n",
              "          const docLinkHtml = 'Like what you see? Visit the ' +\n",
              "            '<a target=\"_blank\" href=https://colab.research.google.com/notebooks/data_table.ipynb>data table notebook</a>'\n",
              "            + ' to learn more about interactive tables.';\n",
              "          element.innerHTML = '';\n",
              "          dataTable['output_type'] = 'display_data';\n",
              "          await google.colab.output.renderOutput(dataTable, element);\n",
              "          const docLink = document.createElement('div');\n",
              "          docLink.innerHTML = docLinkHtml;\n",
              "          element.appendChild(docLink);\n",
              "        }\n",
              "      </script>\n",
              "    </div>\n",
              "  </div>\n",
              "  "
            ]
          },
          "metadata": {},
          "execution_count": 24
        }
      ]
    },
    {
      "cell_type": "markdown",
      "source": [
        "**3. Descargue la serie mensual de precios del índice estadounidense Rusell para el periodo \n",
        "Dic-11 a Dic-2022. Con esta información calcule la volatilidad mensual y anualizada usando \n",
        "las siguientes medidas:**\n",
        "\n",
        "\n",
        "\n"
      ],
      "metadata": {
        "id": "2M6dWg5cq5Cc"
      }
    },
    {
      "cell_type": "code",
      "source": [
        "index=[\"^RUT\"]\n",
        "dfm= wb.get_data_yahoo(index,start=\"2011-12-31\",end=\"2022-12-31\",interval=\"1mo\")\n",
        "dfm"
      ],
      "metadata": {
        "colab": {
          "base_uri": "https://localhost:8080/",
          "height": 472
        },
        "id": "PIcjctEW5RYR",
        "outputId": "1d5efb2b-d89c-458b-9b45-1dac2dc1f571"
      },
      "execution_count": null,
      "outputs": [
        {
          "output_type": "stream",
          "name": "stdout",
          "text": [
            "\r[*********************100%***********************]  1 of 1 completed\n"
          ]
        },
        {
          "output_type": "execute_result",
          "data": {
            "text/plain": [
              "                   Open         High          Low        Close    Adj Close  \\\n",
              "Date                                                                          \n",
              "2012-01-01   750.700012   800.219971   736.780029   792.820007   792.820007   \n",
              "2012-02-01   796.989990   833.020020   796.989990   810.940002   810.940002   \n",
              "2012-03-01   813.969971   847.919983   785.409973   830.299988   830.299988   \n",
              "2012-04-01   828.890015   841.059998   783.559998   816.880005   816.880005   \n",
              "2012-05-01   817.700012   830.099976   745.710022   761.820007   761.820007   \n",
              "...                 ...          ...          ...          ...          ...   \n",
              "2022-08-01  1870.489990  2030.050049  1843.079956  1844.119995  1844.119995   \n",
              "2022-09-01  1826.750000  1906.089966  1650.709961  1664.719971  1664.719971   \n",
              "2022-10-01  1687.280029  1854.569946  1641.939941  1846.859985  1846.859985   \n",
              "2022-11-01  1864.949951  1905.839966  1757.449951  1886.579956  1886.579956   \n",
              "2022-12-01  1891.979980  1898.449951  1722.020020  1761.250000  1761.250000   \n",
              "\n",
              "                 Volume  \n",
              "Date                     \n",
              "2012-01-01  79567560000  \n",
              "2012-02-01  78385710000  \n",
              "2012-03-01  83899660000  \n",
              "2012-04-01  74761710000  \n",
              "2012-05-01  86920490000  \n",
              "...                 ...  \n",
              "2022-08-01  92252350000  \n",
              "2022-09-01  94241020000  \n",
              "2022-10-01  95823760000  \n",
              "2022-11-01  92671910000  \n",
              "2022-12-01  85249330000  \n",
              "\n",
              "[132 rows x 6 columns]"
            ],
            "text/html": [
              "\n",
              "  <div id=\"df-ed89948e-2e20-4174-baf3-10f7164857c7\">\n",
              "    <div class=\"colab-df-container\">\n",
              "      <div>\n",
              "<style scoped>\n",
              "    .dataframe tbody tr th:only-of-type {\n",
              "        vertical-align: middle;\n",
              "    }\n",
              "\n",
              "    .dataframe tbody tr th {\n",
              "        vertical-align: top;\n",
              "    }\n",
              "\n",
              "    .dataframe thead th {\n",
              "        text-align: right;\n",
              "    }\n",
              "</style>\n",
              "<table border=\"1\" class=\"dataframe\">\n",
              "  <thead>\n",
              "    <tr style=\"text-align: right;\">\n",
              "      <th></th>\n",
              "      <th>Open</th>\n",
              "      <th>High</th>\n",
              "      <th>Low</th>\n",
              "      <th>Close</th>\n",
              "      <th>Adj Close</th>\n",
              "      <th>Volume</th>\n",
              "    </tr>\n",
              "    <tr>\n",
              "      <th>Date</th>\n",
              "      <th></th>\n",
              "      <th></th>\n",
              "      <th></th>\n",
              "      <th></th>\n",
              "      <th></th>\n",
              "      <th></th>\n",
              "    </tr>\n",
              "  </thead>\n",
              "  <tbody>\n",
              "    <tr>\n",
              "      <th>2012-01-01</th>\n",
              "      <td>750.700012</td>\n",
              "      <td>800.219971</td>\n",
              "      <td>736.780029</td>\n",
              "      <td>792.820007</td>\n",
              "      <td>792.820007</td>\n",
              "      <td>79567560000</td>\n",
              "    </tr>\n",
              "    <tr>\n",
              "      <th>2012-02-01</th>\n",
              "      <td>796.989990</td>\n",
              "      <td>833.020020</td>\n",
              "      <td>796.989990</td>\n",
              "      <td>810.940002</td>\n",
              "      <td>810.940002</td>\n",
              "      <td>78385710000</td>\n",
              "    </tr>\n",
              "    <tr>\n",
              "      <th>2012-03-01</th>\n",
              "      <td>813.969971</td>\n",
              "      <td>847.919983</td>\n",
              "      <td>785.409973</td>\n",
              "      <td>830.299988</td>\n",
              "      <td>830.299988</td>\n",
              "      <td>83899660000</td>\n",
              "    </tr>\n",
              "    <tr>\n",
              "      <th>2012-04-01</th>\n",
              "      <td>828.890015</td>\n",
              "      <td>841.059998</td>\n",
              "      <td>783.559998</td>\n",
              "      <td>816.880005</td>\n",
              "      <td>816.880005</td>\n",
              "      <td>74761710000</td>\n",
              "    </tr>\n",
              "    <tr>\n",
              "      <th>2012-05-01</th>\n",
              "      <td>817.700012</td>\n",
              "      <td>830.099976</td>\n",
              "      <td>745.710022</td>\n",
              "      <td>761.820007</td>\n",
              "      <td>761.820007</td>\n",
              "      <td>86920490000</td>\n",
              "    </tr>\n",
              "    <tr>\n",
              "      <th>...</th>\n",
              "      <td>...</td>\n",
              "      <td>...</td>\n",
              "      <td>...</td>\n",
              "      <td>...</td>\n",
              "      <td>...</td>\n",
              "      <td>...</td>\n",
              "    </tr>\n",
              "    <tr>\n",
              "      <th>2022-08-01</th>\n",
              "      <td>1870.489990</td>\n",
              "      <td>2030.050049</td>\n",
              "      <td>1843.079956</td>\n",
              "      <td>1844.119995</td>\n",
              "      <td>1844.119995</td>\n",
              "      <td>92252350000</td>\n",
              "    </tr>\n",
              "    <tr>\n",
              "      <th>2022-09-01</th>\n",
              "      <td>1826.750000</td>\n",
              "      <td>1906.089966</td>\n",
              "      <td>1650.709961</td>\n",
              "      <td>1664.719971</td>\n",
              "      <td>1664.719971</td>\n",
              "      <td>94241020000</td>\n",
              "    </tr>\n",
              "    <tr>\n",
              "      <th>2022-10-01</th>\n",
              "      <td>1687.280029</td>\n",
              "      <td>1854.569946</td>\n",
              "      <td>1641.939941</td>\n",
              "      <td>1846.859985</td>\n",
              "      <td>1846.859985</td>\n",
              "      <td>95823760000</td>\n",
              "    </tr>\n",
              "    <tr>\n",
              "      <th>2022-11-01</th>\n",
              "      <td>1864.949951</td>\n",
              "      <td>1905.839966</td>\n",
              "      <td>1757.449951</td>\n",
              "      <td>1886.579956</td>\n",
              "      <td>1886.579956</td>\n",
              "      <td>92671910000</td>\n",
              "    </tr>\n",
              "    <tr>\n",
              "      <th>2022-12-01</th>\n",
              "      <td>1891.979980</td>\n",
              "      <td>1898.449951</td>\n",
              "      <td>1722.020020</td>\n",
              "      <td>1761.250000</td>\n",
              "      <td>1761.250000</td>\n",
              "      <td>85249330000</td>\n",
              "    </tr>\n",
              "  </tbody>\n",
              "</table>\n",
              "<p>132 rows × 6 columns</p>\n",
              "</div>\n",
              "      <button class=\"colab-df-convert\" onclick=\"convertToInteractive('df-ed89948e-2e20-4174-baf3-10f7164857c7')\"\n",
              "              title=\"Convert this dataframe to an interactive table.\"\n",
              "              style=\"display:none;\">\n",
              "        \n",
              "  <svg xmlns=\"http://www.w3.org/2000/svg\" height=\"24px\"viewBox=\"0 0 24 24\"\n",
              "       width=\"24px\">\n",
              "    <path d=\"M0 0h24v24H0V0z\" fill=\"none\"/>\n",
              "    <path d=\"M18.56 5.44l.94 2.06.94-2.06 2.06-.94-2.06-.94-.94-2.06-.94 2.06-2.06.94zm-11 1L8.5 8.5l.94-2.06 2.06-.94-2.06-.94L8.5 2.5l-.94 2.06-2.06.94zm10 10l.94 2.06.94-2.06 2.06-.94-2.06-.94-.94-2.06-.94 2.06-2.06.94z\"/><path d=\"M17.41 7.96l-1.37-1.37c-.4-.4-.92-.59-1.43-.59-.52 0-1.04.2-1.43.59L10.3 9.45l-7.72 7.72c-.78.78-.78 2.05 0 2.83L4 21.41c.39.39.9.59 1.41.59.51 0 1.02-.2 1.41-.59l7.78-7.78 2.81-2.81c.8-.78.8-2.07 0-2.86zM5.41 20L4 18.59l7.72-7.72 1.47 1.35L5.41 20z\"/>\n",
              "  </svg>\n",
              "      </button>\n",
              "      \n",
              "  <style>\n",
              "    .colab-df-container {\n",
              "      display:flex;\n",
              "      flex-wrap:wrap;\n",
              "      gap: 12px;\n",
              "    }\n",
              "\n",
              "    .colab-df-convert {\n",
              "      background-color: #E8F0FE;\n",
              "      border: none;\n",
              "      border-radius: 50%;\n",
              "      cursor: pointer;\n",
              "      display: none;\n",
              "      fill: #1967D2;\n",
              "      height: 32px;\n",
              "      padding: 0 0 0 0;\n",
              "      width: 32px;\n",
              "    }\n",
              "\n",
              "    .colab-df-convert:hover {\n",
              "      background-color: #E2EBFA;\n",
              "      box-shadow: 0px 1px 2px rgba(60, 64, 67, 0.3), 0px 1px 3px 1px rgba(60, 64, 67, 0.15);\n",
              "      fill: #174EA6;\n",
              "    }\n",
              "\n",
              "    [theme=dark] .colab-df-convert {\n",
              "      background-color: #3B4455;\n",
              "      fill: #D2E3FC;\n",
              "    }\n",
              "\n",
              "    [theme=dark] .colab-df-convert:hover {\n",
              "      background-color: #434B5C;\n",
              "      box-shadow: 0px 1px 3px 1px rgba(0, 0, 0, 0.15);\n",
              "      filter: drop-shadow(0px 1px 2px rgba(0, 0, 0, 0.3));\n",
              "      fill: #FFFFFF;\n",
              "    }\n",
              "  </style>\n",
              "\n",
              "      <script>\n",
              "        const buttonEl =\n",
              "          document.querySelector('#df-ed89948e-2e20-4174-baf3-10f7164857c7 button.colab-df-convert');\n",
              "        buttonEl.style.display =\n",
              "          google.colab.kernel.accessAllowed ? 'block' : 'none';\n",
              "\n",
              "        async function convertToInteractive(key) {\n",
              "          const element = document.querySelector('#df-ed89948e-2e20-4174-baf3-10f7164857c7');\n",
              "          const dataTable =\n",
              "            await google.colab.kernel.invokeFunction('convertToInteractive',\n",
              "                                                     [key], {});\n",
              "          if (!dataTable) return;\n",
              "\n",
              "          const docLinkHtml = 'Like what you see? Visit the ' +\n",
              "            '<a target=\"_blank\" href=https://colab.research.google.com/notebooks/data_table.ipynb>data table notebook</a>'\n",
              "            + ' to learn more about interactive tables.';\n",
              "          element.innerHTML = '';\n",
              "          dataTable['output_type'] = 'display_data';\n",
              "          await google.colab.output.renderOutput(dataTable, element);\n",
              "          const docLink = document.createElement('div');\n",
              "          docLink.innerHTML = docLinkHtml;\n",
              "          element.appendChild(docLink);\n",
              "        }\n",
              "      </script>\n",
              "    </div>\n",
              "  </div>\n",
              "  "
            ]
          },
          "metadata": {},
          "execution_count": 25
        }
      ]
    },
    {
      "cell_type": "code",
      "source": [
        "retorno1= np.log(dfm[\"Adj Close\"]/dfm[\"Adj Close\"].shift(1)).dropna()"
      ],
      "metadata": {
        "id": "4qeYM-05-eOt"
      },
      "execution_count": null,
      "outputs": []
    },
    {
      "cell_type": "code",
      "source": [
        "#Retorno mensual \n",
        "retorno_men=retorno1.mean()\n",
        "retorno_men"
      ],
      "metadata": {
        "colab": {
          "base_uri": "https://localhost:8080/"
        },
        "id": "8s1NpNHzmZIF",
        "outputId": "9297452d-3d2a-40a9-e671-a5c15864cf07"
      },
      "execution_count": null,
      "outputs": [
        {
          "output_type": "execute_result",
          "data": {
            "text/plain": [
              "0.00609299881094452"
            ]
          },
          "metadata": {},
          "execution_count": 27
        }
      ]
    },
    {
      "cell_type": "code",
      "source": [
        "#Retorno anual\n",
        "retorno_anu=retorno1.mean()*12\n",
        "retorno_anu"
      ],
      "metadata": {
        "colab": {
          "base_uri": "https://localhost:8080/"
        },
        "id": "f1LaQoFAmoIm",
        "outputId": "4c5637b1-4d5f-4d3d-eea7-4cafeefcaeab"
      },
      "execution_count": null,
      "outputs": [
        {
          "output_type": "execute_result",
          "data": {
            "text/plain": [
              "0.07311598573133424"
            ]
          },
          "metadata": {},
          "execution_count": 28
        }
      ]
    },
    {
      "cell_type": "markdown",
      "source": [
        "a. Desviación estándar"
      ],
      "metadata": {
        "id": "DE4F64cvnlfQ"
      }
    },
    {
      "cell_type": "code",
      "source": [
        "#Vol. mensual estándar\n",
        "retorno1.std()"
      ],
      "metadata": {
        "colab": {
          "base_uri": "https://localhost:8080/"
        },
        "id": "TxabAcc-narT",
        "outputId": "e4b26a3c-4859-4f2a-86c8-f6fae00b3053"
      },
      "execution_count": null,
      "outputs": [
        {
          "output_type": "execute_result",
          "data": {
            "text/plain": [
              "0.054690663898147106"
            ]
          },
          "metadata": {},
          "execution_count": 29
        }
      ]
    },
    {
      "cell_type": "code",
      "source": [
        "#Vol. anualizada estándar\n",
        "retorno1.std()*np.sqrt(12)"
      ],
      "metadata": {
        "colab": {
          "base_uri": "https://localhost:8080/"
        },
        "id": "Lwrxxwoen1Cu",
        "outputId": "50c8bcdb-d6fe-4894-8f01-c41c3ef2be06"
      },
      "execution_count": null,
      "outputs": [
        {
          "output_type": "execute_result",
          "data": {
            "text/plain": [
              "0.18945401714252746"
            ]
          },
          "metadata": {},
          "execution_count": 30
        }
      ]
    },
    {
      "cell_type": "markdown",
      "source": [
        "b. Parkinson"
      ],
      "metadata": {
        "id": "I6LAqSBKoeMa"
      }
    },
    {
      "cell_type": "code",
      "source": [
        "#Vol. mensual Parkinson\n",
        "lnHL = np.log(dfm[\"High\"]/dfm[\"Low\"]).dropna()  \n",
        "sigmaPark_d = ((1/(4*np.log(2)))*lnHL**2)**0.5\n",
        "sigmaPark_d.mean()\n"
      ],
      "metadata": {
        "colab": {
          "base_uri": "https://localhost:8080/"
        },
        "id": "PxjO4boEoxGn",
        "outputId": "4df6190a-6d7f-4107-af58-9bb9fd07de26"
      },
      "execution_count": null,
      "outputs": [
        {
          "output_type": "execute_result",
          "data": {
            "text/plain": [
              "0.05110282355923833"
            ]
          },
          "metadata": {},
          "execution_count": 31
        }
      ]
    },
    {
      "cell_type": "code",
      "source": [
        "#Vol anualizada Parkinson\n",
        "(sigmaPark_d.mean())*np.sqrt(12)"
      ],
      "metadata": {
        "colab": {
          "base_uri": "https://localhost:8080/"
        },
        "id": "Yl80SJQ6t16n",
        "outputId": "02208bd8-789c-472c-a662-3890a81bbf11"
      },
      "execution_count": null,
      "outputs": [
        {
          "output_type": "execute_result",
          "data": {
            "text/plain": [
              "0.17702537362965717"
            ]
          },
          "metadata": {},
          "execution_count": 32
        }
      ]
    },
    {
      "cell_type": "markdown",
      "source": [
        "c. Garman-Klass \n",
        "\n"
      ],
      "metadata": {
        "id": "JT4pyrH2ohWO"
      }
    },
    {
      "cell_type": "code",
      "source": [
        "#Vol. mensual Garman-Klass\n",
        "lnHL = np.log(dfm[\"High\"]/dfm[\"Low\"]).dropna()\n",
        "lnCO = np.log(dfm[\"Close\"]/dfm[\"Open\"]).dropna()\n",
        "sigmaGK_d = (0.5*lnHL**2-(2*np.log(2)-1)*lnCO**2)**0.5\n",
        "sigmaGK_d.mean()"
      ],
      "metadata": {
        "colab": {
          "base_uri": "https://localhost:8080/"
        },
        "id": "LkHmEyPKufXh",
        "outputId": "f4dd99c0-c3d9-4631-c13e-77a1e9f8d311"
      },
      "execution_count": null,
      "outputs": [
        {
          "output_type": "execute_result",
          "data": {
            "text/plain": [
              "0.05244964972327022"
            ]
          },
          "metadata": {},
          "execution_count": 33
        }
      ]
    },
    {
      "cell_type": "code",
      "source": [
        "#Vol.anualizada Garman- Klass\n",
        "sigmaGK_d.mean()*np.sqrt(12)"
      ],
      "metadata": {
        "colab": {
          "base_uri": "https://localhost:8080/"
        },
        "id": "wYJqL7tDu4K_",
        "outputId": "b6220c48-4dc5-41f7-f217-281b543179b6"
      },
      "execution_count": null,
      "outputs": [
        {
          "output_type": "execute_result",
          "data": {
            "text/plain": [
              "0.18169091631978984"
            ]
          },
          "metadata": {},
          "execution_count": 34
        }
      ]
    },
    {
      "cell_type": "markdown",
      "source": [
        "d. Volatilidad ponderada exponencial (EWMA) con una lambda de 0.94."
      ],
      "metadata": {
        "id": "p-M2WQWooto-"
      }
    },
    {
      "cell_type": "code",
      "source": [
        "def vol_ewma(retorno1,Lambda):                \n",
        "  k=len(retorno1)                  \n",
        "  td=np.arange(k-1,-1,-1)\n",
        "  alpha= Lambda**td            \n",
        "  var_s=(retorno1**2*alpha).sum()*(1-Lambda)  \n",
        "  vol_d=np.sqrt(var_s)  \n",
        "  return (vol_d)"
      ],
      "metadata": {
        "id": "0vf1c0y5wi0S"
      },
      "execution_count": null,
      "outputs": []
    },
    {
      "cell_type": "code",
      "source": [
        "#Vol. mensual EWMA \n",
        "vol_ewma(retorno1,Lambda=0.94)"
      ],
      "metadata": {
        "colab": {
          "base_uri": "https://localhost:8080/"
        },
        "id": "wyBmfvfswpaS",
        "outputId": "87ac99e4-a66f-4b8c-ee93-b302e87e737e"
      },
      "execution_count": null,
      "outputs": [
        {
          "output_type": "execute_result",
          "data": {
            "text/plain": [
              "0.06830708248540157"
            ]
          },
          "metadata": {},
          "execution_count": 36
        }
      ]
    }
  ]
}